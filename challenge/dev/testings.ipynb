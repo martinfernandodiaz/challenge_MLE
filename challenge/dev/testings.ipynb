{
 "cells": [
  {
   "cell_type": "code",
   "execution_count": 1,
   "metadata": {},
   "outputs": [],
   "source": [
    "import sys\n",
    "sys.path.append('../')\n"
   ]
  },
  {
   "cell_type": "code",
   "execution_count": 2,
   "metadata": {},
   "outputs": [
    {
     "name": "stdout",
     "output_type": "stream",
     "text": [
      "<class 'pandas.core.frame.DataFrame'>\n",
      "RangeIndex: 68206 entries, 0 to 68205\n",
      "Data columns (total 18 columns):\n",
      " #   Column     Non-Null Count  Dtype \n",
      "---  ------     --------------  ----- \n",
      " 0   Fecha-I    68206 non-null  object\n",
      " 1   Vlo-I      68206 non-null  object\n",
      " 2   Ori-I      68206 non-null  object\n",
      " 3   Des-I      68206 non-null  object\n",
      " 4   Emp-I      68206 non-null  object\n",
      " 5   Fecha-O    68206 non-null  object\n",
      " 6   Vlo-O      68205 non-null  object\n",
      " 7   Ori-O      68206 non-null  object\n",
      " 8   Des-O      68206 non-null  object\n",
      " 9   Emp-O      68206 non-null  object\n",
      " 10  DIA        68206 non-null  int64 \n",
      " 11  MES        68206 non-null  int64 \n",
      " 12  AÑO        68206 non-null  int64 \n",
      " 13  DIANOM     68206 non-null  object\n",
      " 14  TIPOVUELO  68206 non-null  object\n",
      " 15  OPERA      68206 non-null  object\n",
      " 16  SIGLAORI   68206 non-null  object\n",
      " 17  SIGLADES   68206 non-null  object\n",
      "dtypes: int64(3), object(15)\n",
      "memory usage: 9.4+ MB\n"
     ]
    }
   ],
   "source": [
    "import numpy as np\n",
    "import pandas as pd\n",
    "import matplotlib.pyplot as plt\n",
    "import seaborn as sns\n",
    "import warnings\n",
    "from sklearn.linear_model import LogisticRegression\n",
    "\n",
    "from sklearn.model_selection import train_test_split\n",
    "from sklearn.utils import shuffle\n",
    "from sklearn.metrics import confusion_matrix, classification_report\n",
    "\n",
    "from src.model.functions.transformations import get_delay_feature, get_dummies_features\n",
    "from src.model.functions.validations import check_missing_features, check_features_for_nan, check_datetime_format\n",
    "\n",
    "warnings.filterwarnings('ignore')\n",
    "\n",
    "data = pd.read_csv('../../data/data.csv')\n",
    "data.info()"
   ]
  },
  {
   "cell_type": "markdown",
   "metadata": {},
   "source": [
    "## Preprocess - Adaptations"
   ]
  },
  {
   "cell_type": "code",
   "execution_count": 13,
   "metadata": {},
   "outputs": [
    {
     "name": "stdout",
     "output_type": "stream",
     "text": [
      "4.4402380952380955\n",
      "              precision    recall  f1-score   support\n",
      "\n",
      "           0       0.88      0.60      0.71     18294\n",
      "           1       0.27      0.65      0.38      4214\n",
      "\n",
      "    accuracy                           0.61     22508\n",
      "   macro avg       0.58      0.62      0.55     22508\n",
      "weighted avg       0.77      0.61      0.65     22508\n",
      "\n"
     ]
    }
   ],
   "source": [
    "threshold_in_minutes = 15\n",
    "categorical_features = ['OPERA', 'TIPOVUELO', 'MES']\n",
    "\n",
    "get_delay_feature(data, threshold_in_minutes)\n",
    "\n",
    "features = get_dummies_features(data, categorical_features)\n",
    "target = get_delay_feature(data, threshold_in_minutes)\n",
    "\n",
    "top_10_features = [\n",
    "    \"OPERA_Latin American Wings\", \n",
    "    \"MES_7\",\n",
    "    \"MES_10\",\n",
    "    \"OPERA_Grupo LATAM\",\n",
    "    \"MES_12\",\n",
    "    \"TIPOVUELO_I\",\n",
    "    \"MES_4\",\n",
    "    \"MES_11\",\n",
    "    \"OPERA_Sky Airline\",\n",
    "    \"OPERA_Copa Air\"\n",
    "]\n",
    "\n",
    "x_train, x_test, y_train, y_test = train_test_split(features, target['delay'], test_size = 0.33, random_state = 42)\n",
    "\n",
    "n_y0 = len(y_train[y_train == 0])\n",
    "n_y1 = len(y_train[y_train == 1])\n",
    "scale = n_y0/n_y1\n",
    "print(scale)\n",
    "\n",
    "reg_model_2 = LogisticRegression(class_weight={1: n_y0/len(y_train), 0: n_y1/len(y_train)})\n",
    "reg_model_2.fit(x_train, y_train)\n",
    "\n",
    "y_preds_2 = reg_model_2.predict(x_test)\n",
    "print(classification_report(y_test, y_preds_2))"
   ]
  },
  {
   "cell_type": "code",
   "execution_count": 11,
   "metadata": {},
   "outputs": [],
   "source": [
    "#check_missing_features(data[['TIPOVUELO', 'MES']],categorical_features)\n",
    "\n",
    "data['TIPOVUELO'] = np.nan\n",
    "\n",
    "#check_features_for_nan(data[categorical_features],categorical_features)"
   ]
  },
  {
   "cell_type": "code",
   "execution_count": 12,
   "metadata": {},
   "outputs": [],
   "source": [
    "dates_features = ['TIPOVUELO', 'Fecha-I']\n",
    "#check_datetime_format(data, dates_features, datetime_format=\"%Y-%m-%d %H:%M:%S\")"
   ]
  },
  {
   "cell_type": "markdown",
   "metadata": {},
   "source": [
    "## Fit - Adaptations"
   ]
  },
  {
   "cell_type": "code",
   "execution_count": 18,
   "metadata": {},
   "outputs": [
    {
     "name": "stdout",
     "output_type": "stream",
     "text": [
      "TIPOVUELO_I\n",
      "OPERA_Copa Air\n",
      "MES_12\n",
      "OPERA_Air Canada\n",
      "OPERA_Qantas Airways\n",
      "MES_7\n",
      "OPERA_Gol Trans\n",
      "OPERA_American Airlines\n",
      "OPERA_Aeromexico\n",
      "OPERA_Delta Air\n",
      "MES_11\n",
      "OPERA_United Airlines\n",
      "OPERA_Sky Airline\n",
      "OPERA_Latin American Wings\n",
      "MES_10\n",
      "MES_3\n",
      "MES_4\n",
      "OPERA_Aerolineas Argentinas\n",
      "MES_9\n",
      "MES_1\n",
      "MES_2\n",
      "MES_6\n",
      "OPERA_Avianca\n",
      "OPERA_Grupo LATAM\n",
      "MES_8\n",
      "OPERA_JetSmart SPA\n"
     ]
    }
   ],
   "source": [
    "import xgboost as xgb\n",
    "\n",
    "top_n = 10\n",
    "\n",
    "xgb_model = xgb.XGBClassifier(random_state=1, learning_rate=0.01)\n",
    "xgb_model.fit(x_train, y_train)\n",
    "\n",
    "importance = xgb_model.get_booster().get_score(importance_type='gain')\n",
    "\n",
    "sorted_importance = sorted(importance.items(), key=lambda x: x[1], reverse=True)\n",
    "\n",
    "top_10_features = []\n",
    "\n",
    "for feature, score in sorted_importance[:top_n]:\n",
    "    top_10_features.append(feature)\n",
    "\n"
   ]
  },
  {
   "cell_type": "markdown",
   "metadata": {},
   "source": [
    "## Model Class"
   ]
  },
  {
   "cell_type": "code",
   "execution_count": 9,
   "metadata": {},
   "outputs": [],
   "source": [
    "from model import DelayModel\n",
    "\n",
    "model = DelayModel()\n",
    "\n",
    "features, outcome = model.preprocess(data, 'delay')"
   ]
  },
  {
   "cell_type": "code",
   "execution_count": 13,
   "metadata": {},
   "outputs": [],
   "source": [
    "model.fit(features, outcome)"
   ]
  },
  {
   "cell_type": "code",
   "execution_count": 11,
   "metadata": {},
   "outputs": [
    {
     "name": "stdout",
     "output_type": "stream",
     "text": [
      "Error: The following features are missing from the DataFrame: ['OPERA', 'TIPOVUELO', 'MES']\n"
     ]
    }
   ],
   "source": [
    "model.preprocess(pd.DataFrame())"
   ]
  },
  {
   "cell_type": "code",
   "execution_count": 14,
   "metadata": {},
   "outputs": [],
   "source": [
    "outcome = model.predict(features)"
   ]
  },
  {
   "cell_type": "code",
   "execution_count": 35,
   "metadata": {},
   "outputs": [
    {
     "name": "stdout",
     "output_type": "stream",
     "text": [
      "Error: \"None of [Index(['OPERA_Latin American Wings', 'MES_7', 'MES_10', 'OPERA_Grupo LATAM',\\n       'MES_12', 'TIPOVUELO_I', 'MES_4', 'MES_11', 'OPERA_Sky Airline',\\n       'OPERA_Copa Air'],\\n      dtype='object')] are in the [columns]\"\n"
     ]
    }
   ],
   "source": [
    "# Define the single entry as a dictionary\n",
    "flight_data = {\n",
    "    \"OPERA\": \"Aerolineas Argentinas\", \n",
    "    \"TIPOVUELO\": \"N\", \n",
    "    \"MES\": 3\n",
    "}\n",
    "\n",
    "# Create a DataFrame from the dictionary\n",
    "df = pd.DataFrame([flight_data])\n",
    "\n",
    "testing_features = model.preprocess(df)\n"
   ]
  },
  {
   "cell_type": "code",
   "execution_count": 31,
   "metadata": {},
   "outputs": [
    {
     "data": {
      "text/plain": [
       "0.5193824590212005"
      ]
     },
     "execution_count": 31,
     "metadata": {},
     "output_type": "execute_result"
    }
   ],
   "source": [
    "sum(outcome)/len(outcome)"
   ]
  }
 ],
 "metadata": {
  "kernelspec": {
   "display_name": "py310",
   "language": "python",
   "name": "python3"
  },
  "language_info": {
   "codemirror_mode": {
    "name": "ipython",
    "version": 3
   },
   "file_extension": ".py",
   "mimetype": "text/x-python",
   "name": "python",
   "nbconvert_exporter": "python",
   "pygments_lexer": "ipython3",
   "version": "3.10.15"
  }
 },
 "nbformat": 4,
 "nbformat_minor": 2
}
